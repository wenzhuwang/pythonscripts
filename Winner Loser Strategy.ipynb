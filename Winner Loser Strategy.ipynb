{
 "cells": [
  {
   "cell_type": "code",
   "execution_count": 1,
   "metadata": {},
   "outputs": [],
   "source": [
    "# In this script, we developed a strategy \n",
    "# where we believe past winners continue to outperform past losers in certain time frames\n",
    "# We use stocks in S&P 500 as universe \n",
    "# Firstly we tested whether our hypothesis is true\n",
    "# We observe that past winner stocks continue to earn positive excess returns\n",
    "# and past loser stocks continue to earn negative excess returns\n",
    "# Secondly we run this strategy on latest data to decide winner stocks to long and loser stocks to short\n",
    "# Caveat of this strategy is that we did not consider transaction cost\n",
    "# and past performance does not guarantee future performance"
   ]
  },
  {
   "cell_type": "code",
   "execution_count": 2,
   "metadata": {},
   "outputs": [],
   "source": [
    "from yahoo_fin.stock_info import *\n",
    "import pandas as pd\n",
    "import yfinance  as yf\n",
    "import datetime as dt\n",
    "import numpy as np"
   ]
  },
  {
   "cell_type": "code",
   "execution_count": 3,
   "metadata": {},
   "outputs": [],
   "source": [
    "tickers=tickers_sp500()"
   ]
  },
  {
   "cell_type": "code",
   "execution_count": 4,
   "metadata": {},
   "outputs": [
    {
     "name": "stdout",
     "output_type": "stream",
     "text": [
      "[*********************100%***********************]  505 of 505 completed\n",
      "\n",
      "2 Failed downloads:\n",
      "- BF.B: No data found for this date range, symbol may be delisted\n",
      "- BRK.B: No data found, symbol may be delisted\n"
     ]
    }
   ],
   "source": [
    "start = dt.datetime(2018,1,1)\n",
    "end = dt.datetime(2020,11,3)\n",
    "data = yf.download(tickers, start=start, end=end)\n"
   ]
  },
  {
   "cell_type": "code",
   "execution_count": 5,
   "metadata": {},
   "outputs": [],
   "source": [
    "main_data = data['Adj Close']/data['Adj Close'].shift(1) - 1\n",
    "main_data=main_data[1:]\n",
    "main_data=main_data.reset_index()"
   ]
  },
  {
   "cell_type": "code",
   "execution_count": 6,
   "metadata": {},
   "outputs": [
    {
     "data": {
      "text/html": [
       "<div>\n",
       "<style scoped>\n",
       "    .dataframe tbody tr th:only-of-type {\n",
       "        vertical-align: middle;\n",
       "    }\n",
       "\n",
       "    .dataframe tbody tr th {\n",
       "        vertical-align: top;\n",
       "    }\n",
       "\n",
       "    .dataframe thead th {\n",
       "        text-align: right;\n",
       "    }\n",
       "</style>\n",
       "<table border=\"1\" class=\"dataframe\">\n",
       "  <thead>\n",
       "    <tr style=\"text-align: right;\">\n",
       "      <th></th>\n",
       "      <th>Date</th>\n",
       "      <th>A</th>\n",
       "      <th>AAL</th>\n",
       "      <th>AAP</th>\n",
       "      <th>AAPL</th>\n",
       "      <th>ABBV</th>\n",
       "      <th>ABC</th>\n",
       "      <th>ABMD</th>\n",
       "      <th>ABT</th>\n",
       "      <th>ACN</th>\n",
       "      <th>...</th>\n",
       "      <th>XLNX</th>\n",
       "      <th>XOM</th>\n",
       "      <th>XRAY</th>\n",
       "      <th>XRX</th>\n",
       "      <th>XYL</th>\n",
       "      <th>YUM</th>\n",
       "      <th>ZBH</th>\n",
       "      <th>ZBRA</th>\n",
       "      <th>ZION</th>\n",
       "      <th>ZTS</th>\n",
       "    </tr>\n",
       "  </thead>\n",
       "  <tbody>\n",
       "    <tr>\n",
       "      <th>0</th>\n",
       "      <td>2018-01-02</td>\n",
       "      <td>NaN</td>\n",
       "      <td>NaN</td>\n",
       "      <td>NaN</td>\n",
       "      <td>NaN</td>\n",
       "      <td>NaN</td>\n",
       "      <td>NaN</td>\n",
       "      <td>NaN</td>\n",
       "      <td>NaN</td>\n",
       "      <td>NaN</td>\n",
       "      <td>...</td>\n",
       "      <td>NaN</td>\n",
       "      <td>NaN</td>\n",
       "      <td>NaN</td>\n",
       "      <td>NaN</td>\n",
       "      <td>NaN</td>\n",
       "      <td>NaN</td>\n",
       "      <td>NaN</td>\n",
       "      <td>NaN</td>\n",
       "      <td>NaN</td>\n",
       "      <td>NaN</td>\n",
       "    </tr>\n",
       "    <tr>\n",
       "      <th>1</th>\n",
       "      <td>2018-01-03</td>\n",
       "      <td>0.025444</td>\n",
       "      <td>-0.012266</td>\n",
       "      <td>0.009049</td>\n",
       "      <td>-0.000174</td>\n",
       "      <td>0.015649</td>\n",
       "      <td>0.003722</td>\n",
       "      <td>0.017300</td>\n",
       "      <td>0.002211</td>\n",
       "      <td>0.004615</td>\n",
       "      <td>...</td>\n",
       "      <td>0.020036</td>\n",
       "      <td>0.019640</td>\n",
       "      <td>-0.003426</td>\n",
       "      <td>-0.001362</td>\n",
       "      <td>0.012193</td>\n",
       "      <td>-0.000858</td>\n",
       "      <td>0.006932</td>\n",
       "      <td>0.019863</td>\n",
       "      <td>-0.001183</td>\n",
       "      <td>0.004598</td>\n",
       "    </tr>\n",
       "    <tr>\n",
       "      <th>2</th>\n",
       "      <td>2018-01-04</td>\n",
       "      <td>-0.007501</td>\n",
       "      <td>0.006305</td>\n",
       "      <td>0.036899</td>\n",
       "      <td>0.004645</td>\n",
       "      <td>-0.005703</td>\n",
       "      <td>-0.002225</td>\n",
       "      <td>0.017516</td>\n",
       "      <td>-0.001697</td>\n",
       "      <td>0.011841</td>\n",
       "      <td>...</td>\n",
       "      <td>0.018053</td>\n",
       "      <td>0.001384</td>\n",
       "      <td>-0.000150</td>\n",
       "      <td>0.012274</td>\n",
       "      <td>0.006676</td>\n",
       "      <td>0.010180</td>\n",
       "      <td>-0.001441</td>\n",
       "      <td>0.019760</td>\n",
       "      <td>0.004147</td>\n",
       "      <td>0.005964</td>\n",
       "    </tr>\n",
       "    <tr>\n",
       "      <th>3</th>\n",
       "      <td>2018-01-05</td>\n",
       "      <td>0.015988</td>\n",
       "      <td>-0.000380</td>\n",
       "      <td>0.010630</td>\n",
       "      <td>0.011385</td>\n",
       "      <td>0.017408</td>\n",
       "      <td>0.012104</td>\n",
       "      <td>0.015408</td>\n",
       "      <td>0.002890</td>\n",
       "      <td>0.008249</td>\n",
       "      <td>...</td>\n",
       "      <td>0.051922</td>\n",
       "      <td>-0.000806</td>\n",
       "      <td>0.014051</td>\n",
       "      <td>0.007410</td>\n",
       "      <td>-0.001874</td>\n",
       "      <td>0.005828</td>\n",
       "      <td>0.009941</td>\n",
       "      <td>0.015576</td>\n",
       "      <td>0.000393</td>\n",
       "      <td>0.011444</td>\n",
       "    </tr>\n",
       "    <tr>\n",
       "      <th>4</th>\n",
       "      <td>2018-01-08</td>\n",
       "      <td>0.002146</td>\n",
       "      <td>-0.009877</td>\n",
       "      <td>-0.007042</td>\n",
       "      <td>-0.003714</td>\n",
       "      <td>-0.016022</td>\n",
       "      <td>0.016576</td>\n",
       "      <td>0.027086</td>\n",
       "      <td>-0.002882</td>\n",
       "      <td>0.007991</td>\n",
       "      <td>...</td>\n",
       "      <td>0.006608</td>\n",
       "      <td>0.004496</td>\n",
       "      <td>0.006781</td>\n",
       "      <td>0.011702</td>\n",
       "      <td>0.003611</td>\n",
       "      <td>0.001690</td>\n",
       "      <td>0.001905</td>\n",
       "      <td>0.009951</td>\n",
       "      <td>-0.004914</td>\n",
       "      <td>0.011995</td>\n",
       "    </tr>\n",
       "  </tbody>\n",
       "</table>\n",
       "<p>5 rows × 506 columns</p>\n",
       "</div>"
      ],
      "text/plain": [
       "        Date         A       AAL       AAP      AAPL      ABBV       ABC  \\\n",
       "0 2018-01-02       NaN       NaN       NaN       NaN       NaN       NaN   \n",
       "1 2018-01-03  0.025444 -0.012266  0.009049 -0.000174  0.015649  0.003722   \n",
       "2 2018-01-04 -0.007501  0.006305  0.036899  0.004645 -0.005703 -0.002225   \n",
       "3 2018-01-05  0.015988 -0.000380  0.010630  0.011385  0.017408  0.012104   \n",
       "4 2018-01-08  0.002146 -0.009877 -0.007042 -0.003714 -0.016022  0.016576   \n",
       "\n",
       "       ABMD       ABT       ACN  ...      XLNX       XOM      XRAY       XRX  \\\n",
       "0       NaN       NaN       NaN  ...       NaN       NaN       NaN       NaN   \n",
       "1  0.017300  0.002211  0.004615  ...  0.020036  0.019640 -0.003426 -0.001362   \n",
       "2  0.017516 -0.001697  0.011841  ...  0.018053  0.001384 -0.000150  0.012274   \n",
       "3  0.015408  0.002890  0.008249  ...  0.051922 -0.000806  0.014051  0.007410   \n",
       "4  0.027086 -0.002882  0.007991  ...  0.006608  0.004496  0.006781  0.011702   \n",
       "\n",
       "        XYL       YUM       ZBH      ZBRA      ZION       ZTS  \n",
       "0       NaN       NaN       NaN       NaN       NaN       NaN  \n",
       "1  0.012193 -0.000858  0.006932  0.019863 -0.001183  0.004598  \n",
       "2  0.006676  0.010180 -0.001441  0.019760  0.004147  0.005964  \n",
       "3 -0.001874  0.005828  0.009941  0.015576  0.000393  0.011444  \n",
       "4  0.003611  0.001690  0.001905  0.009951 -0.004914  0.011995  \n",
       "\n",
       "[5 rows x 506 columns]"
      ]
     },
     "execution_count": 6,
     "metadata": {},
     "output_type": "execute_result"
    }
   ],
   "source": [
    "main_data.head()"
   ]
  },
  {
   "cell_type": "code",
   "execution_count": 7,
   "metadata": {},
   "outputs": [
    {
     "data": {
      "text/plain": [
       "Index(['A', 'AAL', 'AAP', 'AAPL', 'ABBV', 'ABC', 'ABMD', 'ABT', 'ACN', 'ADBE',\n",
       "       ...\n",
       "       'XLNX', 'XOM', 'XRAY', 'XRX', 'XYL', 'YUM', 'ZBH', 'ZBRA', 'ZION',\n",
       "       'ZTS'],\n",
       "      dtype='object', length=505)"
      ]
     },
     "execution_count": 7,
     "metadata": {},
     "output_type": "execute_result"
    }
   ],
   "source": [
    "main_data.columns[1:]"
   ]
  },
  {
   "cell_type": "code",
   "execution_count": 8,
   "metadata": {},
   "outputs": [],
   "source": [
    "data_ret=pd.melt(main_data,id_vars=['Date'], value_vars=main_data.columns[1:],var_name='symbol', value_name='ret')"
   ]
  },
  {
   "cell_type": "code",
   "execution_count": 9,
   "metadata": {},
   "outputs": [
    {
     "data": {
      "text/html": [
       "<div>\n",
       "<style scoped>\n",
       "    .dataframe tbody tr th:only-of-type {\n",
       "        vertical-align: middle;\n",
       "    }\n",
       "\n",
       "    .dataframe tbody tr th {\n",
       "        vertical-align: top;\n",
       "    }\n",
       "\n",
       "    .dataframe thead th {\n",
       "        text-align: right;\n",
       "    }\n",
       "</style>\n",
       "<table border=\"1\" class=\"dataframe\">\n",
       "  <thead>\n",
       "    <tr style=\"text-align: right;\">\n",
       "      <th></th>\n",
       "      <th>Date</th>\n",
       "      <th>symbol</th>\n",
       "      <th>ret</th>\n",
       "    </tr>\n",
       "  </thead>\n",
       "  <tbody>\n",
       "    <tr>\n",
       "      <th>361575</th>\n",
       "      <td>2020-10-27</td>\n",
       "      <td>ZTS</td>\n",
       "      <td>0.012400</td>\n",
       "    </tr>\n",
       "    <tr>\n",
       "      <th>361576</th>\n",
       "      <td>2020-10-28</td>\n",
       "      <td>ZTS</td>\n",
       "      <td>-0.023266</td>\n",
       "    </tr>\n",
       "    <tr>\n",
       "      <th>361577</th>\n",
       "      <td>2020-10-29</td>\n",
       "      <td>ZTS</td>\n",
       "      <td>0.015754</td>\n",
       "    </tr>\n",
       "    <tr>\n",
       "      <th>361578</th>\n",
       "      <td>2020-10-30</td>\n",
       "      <td>ZTS</td>\n",
       "      <td>-0.016378</td>\n",
       "    </tr>\n",
       "    <tr>\n",
       "      <th>361579</th>\n",
       "      <td>2020-11-02</td>\n",
       "      <td>ZTS</td>\n",
       "      <td>0.027373</td>\n",
       "    </tr>\n",
       "  </tbody>\n",
       "</table>\n",
       "</div>"
      ],
      "text/plain": [
       "             Date symbol       ret\n",
       "361575 2020-10-27    ZTS  0.012400\n",
       "361576 2020-10-28    ZTS -0.023266\n",
       "361577 2020-10-29    ZTS  0.015754\n",
       "361578 2020-10-30    ZTS -0.016378\n",
       "361579 2020-11-02    ZTS  0.027373"
      ]
     },
     "execution_count": 9,
     "metadata": {},
     "output_type": "execute_result"
    }
   ],
   "source": [
    "data_ret.tail()"
   ]
  },
  {
   "cell_type": "code",
   "execution_count": 10,
   "metadata": {},
   "outputs": [
    {
     "name": "stdout",
     "output_type": "stream",
     "text": [
      "[*********************100%***********************]  1 of 1 completed\n"
     ]
    }
   ],
   "source": [
    "benchmark=yf.download('^GSPC',start=start, end=end)"
   ]
  },
  {
   "cell_type": "code",
   "execution_count": 11,
   "metadata": {},
   "outputs": [],
   "source": [
    "bm_data = benchmark['Adj Close']/benchmark['Adj Close'].shift(1) - 1\n",
    "bm_data=bm_data[1:]"
   ]
  },
  {
   "cell_type": "code",
   "execution_count": 12,
   "metadata": {},
   "outputs": [],
   "source": [
    "bm_data=pd.DataFrame(bm_data)"
   ]
  },
  {
   "cell_type": "code",
   "execution_count": 13,
   "metadata": {},
   "outputs": [
    {
     "data": {
      "text/plain": [
       "pandas.core.frame.DataFrame"
      ]
     },
     "execution_count": 13,
     "metadata": {},
     "output_type": "execute_result"
    }
   ],
   "source": [
    "type(bm_data)"
   ]
  },
  {
   "cell_type": "code",
   "execution_count": 14,
   "metadata": {},
   "outputs": [],
   "source": [
    "bm_data=bm_data.reset_index()\n",
    "bm_data=bm_data.rename(columns={\"Date\": \"date\"})\n",
    "bm_data=bm_data.rename(columns={\"Adj Close\": \"bmret\"})\n",
    "bm_data=bm_data.set_index(\"date\")"
   ]
  },
  {
   "cell_type": "code",
   "execution_count": 15,
   "metadata": {},
   "outputs": [
    {
     "data": {
      "text/html": [
       "<div>\n",
       "<style scoped>\n",
       "    .dataframe tbody tr th:only-of-type {\n",
       "        vertical-align: middle;\n",
       "    }\n",
       "\n",
       "    .dataframe tbody tr th {\n",
       "        vertical-align: top;\n",
       "    }\n",
       "\n",
       "    .dataframe thead th {\n",
       "        text-align: right;\n",
       "    }\n",
       "</style>\n",
       "<table border=\"1\" class=\"dataframe\">\n",
       "  <thead>\n",
       "    <tr style=\"text-align: right;\">\n",
       "      <th></th>\n",
       "      <th>bmret</th>\n",
       "    </tr>\n",
       "    <tr>\n",
       "      <th>date</th>\n",
       "      <th></th>\n",
       "    </tr>\n",
       "  </thead>\n",
       "  <tbody>\n",
       "    <tr>\n",
       "      <th>2018-01-03</th>\n",
       "      <td>0.006399</td>\n",
       "    </tr>\n",
       "    <tr>\n",
       "      <th>2018-01-04</th>\n",
       "      <td>0.004029</td>\n",
       "    </tr>\n",
       "    <tr>\n",
       "      <th>2018-01-05</th>\n",
       "      <td>0.007034</td>\n",
       "    </tr>\n",
       "    <tr>\n",
       "      <th>2018-01-08</th>\n",
       "      <td>0.001662</td>\n",
       "    </tr>\n",
       "    <tr>\n",
       "      <th>2018-01-09</th>\n",
       "      <td>0.001303</td>\n",
       "    </tr>\n",
       "  </tbody>\n",
       "</table>\n",
       "</div>"
      ],
      "text/plain": [
       "               bmret\n",
       "date                \n",
       "2018-01-03  0.006399\n",
       "2018-01-04  0.004029\n",
       "2018-01-05  0.007034\n",
       "2018-01-08  0.001662\n",
       "2018-01-09  0.001303"
      ]
     },
     "execution_count": 15,
     "metadata": {},
     "output_type": "execute_result"
    }
   ],
   "source": [
    "bm_data.head()"
   ]
  },
  {
   "cell_type": "code",
   "execution_count": 16,
   "metadata": {},
   "outputs": [],
   "source": [
    "data_ret=data_ret.rename(columns={\"Date\": \"date\"})\n",
    "data_ret=data_ret.set_index(\"date\")"
   ]
  },
  {
   "cell_type": "code",
   "execution_count": 17,
   "metadata": {},
   "outputs": [
    {
     "data": {
      "text/html": [
       "<div>\n",
       "<style scoped>\n",
       "    .dataframe tbody tr th:only-of-type {\n",
       "        vertical-align: middle;\n",
       "    }\n",
       "\n",
       "    .dataframe tbody tr th {\n",
       "        vertical-align: top;\n",
       "    }\n",
       "\n",
       "    .dataframe thead th {\n",
       "        text-align: right;\n",
       "    }\n",
       "</style>\n",
       "<table border=\"1\" class=\"dataframe\">\n",
       "  <thead>\n",
       "    <tr style=\"text-align: right;\">\n",
       "      <th></th>\n",
       "      <th>symbol</th>\n",
       "      <th>ret</th>\n",
       "    </tr>\n",
       "    <tr>\n",
       "      <th>date</th>\n",
       "      <th></th>\n",
       "      <th></th>\n",
       "    </tr>\n",
       "  </thead>\n",
       "  <tbody>\n",
       "    <tr>\n",
       "      <th>2018-01-02</th>\n",
       "      <td>A</td>\n",
       "      <td>NaN</td>\n",
       "    </tr>\n",
       "    <tr>\n",
       "      <th>2018-01-03</th>\n",
       "      <td>A</td>\n",
       "      <td>0.025444</td>\n",
       "    </tr>\n",
       "    <tr>\n",
       "      <th>2018-01-04</th>\n",
       "      <td>A</td>\n",
       "      <td>-0.007501</td>\n",
       "    </tr>\n",
       "    <tr>\n",
       "      <th>2018-01-05</th>\n",
       "      <td>A</td>\n",
       "      <td>0.015988</td>\n",
       "    </tr>\n",
       "    <tr>\n",
       "      <th>2018-01-08</th>\n",
       "      <td>A</td>\n",
       "      <td>0.002146</td>\n",
       "    </tr>\n",
       "  </tbody>\n",
       "</table>\n",
       "</div>"
      ],
      "text/plain": [
       "           symbol       ret\n",
       "date                       \n",
       "2018-01-02      A       NaN\n",
       "2018-01-03      A  0.025444\n",
       "2018-01-04      A -0.007501\n",
       "2018-01-05      A  0.015988\n",
       "2018-01-08      A  0.002146"
      ]
     },
     "execution_count": 17,
     "metadata": {},
     "output_type": "execute_result"
    }
   ],
   "source": [
    "data_ret.head()"
   ]
  },
  {
   "cell_type": "code",
   "execution_count": 18,
   "metadata": {},
   "outputs": [
    {
     "data": {
      "text/plain": [
       "(361580, 2)"
      ]
     },
     "execution_count": 18,
     "metadata": {},
     "output_type": "execute_result"
    }
   ],
   "source": [
    "data_ret.shape"
   ]
  },
  {
   "cell_type": "code",
   "execution_count": 19,
   "metadata": {},
   "outputs": [
    {
     "data": {
      "text/plain": [
       "(714, 1)"
      ]
     },
     "execution_count": 19,
     "metadata": {},
     "output_type": "execute_result"
    }
   ],
   "source": [
    "bm_data.shape"
   ]
  },
  {
   "cell_type": "code",
   "execution_count": 20,
   "metadata": {},
   "outputs": [
    {
     "data": {
      "text/plain": [
       "(361580, 3)"
      ]
     },
     "execution_count": 20,
     "metadata": {},
     "output_type": "execute_result"
    }
   ],
   "source": [
    "combined_data=pd.merge(data_ret,bm_data,how=\"left\",on=[\"date\"])\n",
    "combined_data.shape"
   ]
  },
  {
   "cell_type": "code",
   "execution_count": 21,
   "metadata": {},
   "outputs": [],
   "source": [
    "# compute log return\n",
    "combined_data['lret'] = np.log(1 + combined_data['ret'])\n",
    "combined_data['lbmret'] = np.log(1 + combined_data['bmret'])"
   ]
  },
  {
   "cell_type": "code",
   "execution_count": 22,
   "metadata": {},
   "outputs": [
    {
     "data": {
      "text/html": [
       "<div>\n",
       "<style scoped>\n",
       "    .dataframe tbody tr th:only-of-type {\n",
       "        vertical-align: middle;\n",
       "    }\n",
       "\n",
       "    .dataframe tbody tr th {\n",
       "        vertical-align: top;\n",
       "    }\n",
       "\n",
       "    .dataframe thead th {\n",
       "        text-align: right;\n",
       "    }\n",
       "</style>\n",
       "<table border=\"1\" class=\"dataframe\">\n",
       "  <thead>\n",
       "    <tr style=\"text-align: right;\">\n",
       "      <th></th>\n",
       "      <th>symbol</th>\n",
       "      <th>ret</th>\n",
       "      <th>bmret</th>\n",
       "      <th>lret</th>\n",
       "      <th>lbmret</th>\n",
       "    </tr>\n",
       "    <tr>\n",
       "      <th>date</th>\n",
       "      <th></th>\n",
       "      <th></th>\n",
       "      <th></th>\n",
       "      <th></th>\n",
       "      <th></th>\n",
       "    </tr>\n",
       "  </thead>\n",
       "  <tbody>\n",
       "    <tr>\n",
       "      <th>2018-01-02</th>\n",
       "      <td>A</td>\n",
       "      <td>NaN</td>\n",
       "      <td>NaN</td>\n",
       "      <td>NaN</td>\n",
       "      <td>NaN</td>\n",
       "    </tr>\n",
       "    <tr>\n",
       "      <th>2018-01-02</th>\n",
       "      <td>HES</td>\n",
       "      <td>NaN</td>\n",
       "      <td>NaN</td>\n",
       "      <td>NaN</td>\n",
       "      <td>NaN</td>\n",
       "    </tr>\n",
       "    <tr>\n",
       "      <th>2018-01-02</th>\n",
       "      <td>LVS</td>\n",
       "      <td>NaN</td>\n",
       "      <td>NaN</td>\n",
       "      <td>NaN</td>\n",
       "      <td>NaN</td>\n",
       "    </tr>\n",
       "    <tr>\n",
       "      <th>2018-01-02</th>\n",
       "      <td>TDG</td>\n",
       "      <td>NaN</td>\n",
       "      <td>NaN</td>\n",
       "      <td>NaN</td>\n",
       "      <td>NaN</td>\n",
       "    </tr>\n",
       "    <tr>\n",
       "      <th>2018-01-02</th>\n",
       "      <td>CAG</td>\n",
       "      <td>NaN</td>\n",
       "      <td>NaN</td>\n",
       "      <td>NaN</td>\n",
       "      <td>NaN</td>\n",
       "    </tr>\n",
       "  </tbody>\n",
       "</table>\n",
       "</div>"
      ],
      "text/plain": [
       "           symbol  ret  bmret  lret  lbmret\n",
       "date                                       \n",
       "2018-01-02      A  NaN    NaN   NaN     NaN\n",
       "2018-01-02    HES  NaN    NaN   NaN     NaN\n",
       "2018-01-02    LVS  NaN    NaN   NaN     NaN\n",
       "2018-01-02    TDG  NaN    NaN   NaN     NaN\n",
       "2018-01-02    CAG  NaN    NaN   NaN     NaN"
      ]
     },
     "execution_count": 22,
     "metadata": {},
     "output_type": "execute_result"
    }
   ],
   "source": [
    "combined_data=combined_data.sort_index()\n",
    "combined_data.head()"
   ]
  },
  {
   "cell_type": "code",
   "execution_count": 23,
   "metadata": {},
   "outputs": [
    {
     "data": {
      "text/plain": [
       "DatetimeIndex(['2018-01-15', '2018-01-29', '2018-02-12', '2018-02-26',\n",
       "               '2018-03-12', '2018-03-26', '2018-04-09', '2018-04-23',\n",
       "               '2018-05-07', '2018-05-21', '2018-06-04', '2018-06-18',\n",
       "               '2018-07-02', '2018-07-16', '2018-07-30', '2018-08-13',\n",
       "               '2018-08-27', '2018-09-10', '2018-09-24', '2018-10-08',\n",
       "               '2018-10-22', '2018-11-05', '2018-11-19', '2018-12-03',\n",
       "               '2018-12-17', '2018-12-31', '2019-01-14', '2019-01-28',\n",
       "               '2019-02-11', '2019-02-25', '2019-03-11', '2019-03-25',\n",
       "               '2019-04-08', '2019-04-22', '2019-05-06', '2019-05-20',\n",
       "               '2019-06-03', '2019-06-17', '2019-07-01', '2019-07-15',\n",
       "               '2019-07-29', '2019-08-12', '2019-08-26', '2019-09-09',\n",
       "               '2019-09-23', '2019-10-07', '2019-10-21', '2019-11-04',\n",
       "               '2019-11-18', '2019-12-02', '2019-12-16', '2019-12-30',\n",
       "               '2020-01-13', '2020-01-27', '2020-02-10', '2020-02-24',\n",
       "               '2020-03-09', '2020-03-23', '2020-04-06', '2020-04-20',\n",
       "               '2020-05-04', '2020-05-18', '2020-06-01', '2020-06-15',\n",
       "               '2020-06-29', '2020-07-13', '2020-07-27', '2020-08-10',\n",
       "               '2020-08-24', '2020-09-07', '2020-09-21', '2020-10-05',\n",
       "               '2020-10-19'],\n",
       "              dtype='datetime64[ns]', freq='2W-MON')"
      ]
     },
     "execution_count": 23,
     "metadata": {},
     "output_type": "execute_result"
    }
   ],
   "source": [
    "# Generating portfolio formation dates\n",
    "# Parameters\n",
    "form_period = 2 # 1 Formation period, in weeks\n",
    "start_date = '2018-01-14' \n",
    "end_date = '2020-10-31' \n",
    "# Get the dates of portfolio formation.\n",
    "# The frequency tells how far apart to put the dates.\n",
    "# 'M' stand for month, 'MS' is for month start, to make sure we \n",
    "# have first day of the month. It needs to be a string, so we convert\n",
    "# our numbers to string. \n",
    "dates = pd.date_range(start=start_date, end=end_date, freq=str(np.int(form_period)) + 'W-MON')\n",
    "dates"
   ]
  },
  {
   "cell_type": "code",
   "execution_count": 24,
   "metadata": {},
   "outputs": [],
   "source": [
    "def compute_performance_portfolios(date, df, form_period=2, n_stocks=5):\n",
    "    beg_dt = date - pd.offsets.Week(1) * form_period\n",
    "\n",
    "    # Select obs for the formation period\n",
    "    crsp_t = df[beg_dt:date].copy()\n",
    "    \n",
    "    # We only want to keep stocks that are there during the full formation window\n",
    "    crsp_t['N'] = crsp_t.groupby(['symbol'])['symbol'].transform('count')\n",
    "    # Filter on number of observations. We only keep sotcks for which we have returns\n",
    "    # over the full observation period.\n",
    "    crsp_t = crsp_t[crsp_t['N'] >= form_period]\n",
    "    \n",
    "    # Now for each stock we want to compute the full period return. Easy with log returns, just sum up!\n",
    "    stock_ret = crsp_t.groupby('symbol')[['lret', 'lbmret']].sum()\n",
    "    \n",
    "    # Next compute excess returns based on the chosen index.\n",
    "    # Note that since the benchmark is the same for all stocks, we could use\n",
    "    # actual returns for ranking purposes.\n",
    "    stock_ret['lexret'] = stock_ret['lret'] - stock_ret['lbmret']\n",
    "    \n",
    "    # Now rankings.\n",
    "    stock_ret['rank_asc'] = stock_ret['lexret'].rank() # (1 = worst return)\n",
    "    stock_ret['rank_inv'] = stock_ret['lexret'].rank(ascending=False) # (1= best return)\n",
    "    \n",
    "    # Assign stock to top or bottom portfolio\n",
    "    top_portfolio = stock_ret[stock_ret.rank_inv <= n_stocks].reset_index()[['symbol', 'lexret']]\n",
    "    bottom_portfolio = stock_ret[stock_ret.rank_asc <= n_stocks].reset_index()[['symbol', 'lexret']]\n",
    "    \n",
    "    return (bottom_portfolio, top_portfolio)"
   ]
  },
  {
   "cell_type": "code",
   "execution_count": 25,
   "metadata": {},
   "outputs": [],
   "source": [
    "# portfolios is a dictionary with date as keys\n",
    "# and bottom portfolio and top portfolio as values\n",
    "portfolios = {}\n",
    "for date in dates:\n",
    "    portfolios[date] = compute_performance_portfolios(date, combined_data)\n",
    "    "
   ]
  },
  {
   "cell_type": "code",
   "execution_count": 26,
   "metadata": {},
   "outputs": [
    {
     "data": {
      "text/html": [
       "<div>\n",
       "<style scoped>\n",
       "    .dataframe tbody tr th:only-of-type {\n",
       "        vertical-align: middle;\n",
       "    }\n",
       "\n",
       "    .dataframe tbody tr th {\n",
       "        vertical-align: top;\n",
       "    }\n",
       "\n",
       "    .dataframe thead th {\n",
       "        text-align: right;\n",
       "    }\n",
       "</style>\n",
       "<table border=\"1\" class=\"dataframe\">\n",
       "  <thead>\n",
       "    <tr style=\"text-align: right;\">\n",
       "      <th></th>\n",
       "      <th>symbol</th>\n",
       "      <th>lexret</th>\n",
       "    </tr>\n",
       "  </thead>\n",
       "  <tbody>\n",
       "    <tr>\n",
       "      <th>0</th>\n",
       "      <td>AIV</td>\n",
       "      <td>-0.115591</td>\n",
       "    </tr>\n",
       "    <tr>\n",
       "      <th>1</th>\n",
       "      <td>BXP</td>\n",
       "      <td>-0.138263</td>\n",
       "    </tr>\n",
       "    <tr>\n",
       "      <th>2</th>\n",
       "      <td>DPZ</td>\n",
       "      <td>-0.117104</td>\n",
       "    </tr>\n",
       "    <tr>\n",
       "      <th>3</th>\n",
       "      <td>VRTX</td>\n",
       "      <td>-0.190984</td>\n",
       "    </tr>\n",
       "    <tr>\n",
       "      <th>4</th>\n",
       "      <td>WELL</td>\n",
       "      <td>-0.120245</td>\n",
       "    </tr>\n",
       "  </tbody>\n",
       "</table>\n",
       "</div>"
      ],
      "text/plain": [
       "  symbol    lexret\n",
       "0    AIV -0.115591\n",
       "1    BXP -0.138263\n",
       "2    DPZ -0.117104\n",
       "3   VRTX -0.190984\n",
       "4   WELL -0.120245"
      ]
     },
     "execution_count": 26,
     "metadata": {},
     "output_type": "execute_result"
    }
   ],
   "source": [
    "portfolios[date][0]"
   ]
  },
  {
   "cell_type": "code",
   "execution_count": 27,
   "metadata": {},
   "outputs": [
    {
     "data": {
      "text/html": [
       "<div>\n",
       "<style scoped>\n",
       "    .dataframe tbody tr th:only-of-type {\n",
       "        vertical-align: middle;\n",
       "    }\n",
       "\n",
       "    .dataframe tbody tr th {\n",
       "        vertical-align: top;\n",
       "    }\n",
       "\n",
       "    .dataframe thead th {\n",
       "        text-align: right;\n",
       "    }\n",
       "</style>\n",
       "<table border=\"1\" class=\"dataframe\">\n",
       "  <thead>\n",
       "    <tr style=\"text-align: right;\">\n",
       "      <th></th>\n",
       "      <th>symbol</th>\n",
       "      <th>lexret</th>\n",
       "    </tr>\n",
       "  </thead>\n",
       "  <tbody>\n",
       "    <tr>\n",
       "      <th>0</th>\n",
       "      <td>EXC</td>\n",
       "      <td>0.129307</td>\n",
       "    </tr>\n",
       "    <tr>\n",
       "      <th>1</th>\n",
       "      <td>IVZ</td>\n",
       "      <td>0.137107</td>\n",
       "    </tr>\n",
       "    <tr>\n",
       "      <th>2</th>\n",
       "      <td>PAYC</td>\n",
       "      <td>0.121457</td>\n",
       "    </tr>\n",
       "    <tr>\n",
       "      <th>3</th>\n",
       "      <td>TPR</td>\n",
       "      <td>0.193634</td>\n",
       "    </tr>\n",
       "    <tr>\n",
       "      <th>4</th>\n",
       "      <td>WRK</td>\n",
       "      <td>0.136429</td>\n",
       "    </tr>\n",
       "  </tbody>\n",
       "</table>\n",
       "</div>"
      ],
      "text/plain": [
       "  symbol    lexret\n",
       "0    EXC  0.129307\n",
       "1    IVZ  0.137107\n",
       "2   PAYC  0.121457\n",
       "3    TPR  0.193634\n",
       "4    WRK  0.136429"
      ]
     },
     "execution_count": 27,
     "metadata": {},
     "output_type": "execute_result"
    }
   ],
   "source": [
    "portfolios[date][1]"
   ]
  },
  {
   "cell_type": "code",
   "execution_count": 28,
   "metadata": {},
   "outputs": [],
   "source": [
    "# computing holding period returns on each portfolio/date\n",
    "\n",
    "def compute_holding_returns(date, portfolio, df, hold_per=2):\n",
    "    portfolio = portfolio.copy()\n",
    "    end_dt = date + pd.offsets.Week(1) * hold_per\n",
    "    # Select obs for the formation period\n",
    "    crsp_t2 = df[date:end_dt].copy()\n",
    "    # Merge with stocks in portfolios, to keep only those stocks\n",
    "    crsp_t2 = pd.merge(crsp_t2.reset_index(), portfolio, on=['symbol'])\n",
    "    crsp_t2\n",
    "    \n",
    "\n",
    "    # Get the dates in the dataset.\n",
    "    pairs_t2 = [{'date': d, 'symbol': p} for d in crsp_t2['date'].unique() for p in portfolio['symbol'].unique()]\n",
    "    pairs_t2 = pd.DataFrame(pairs_t2)\n",
    "    pairs_t2\n",
    "    crsp_t2 = pd.merge(crsp_t2, pairs_t2, how='outer', on=['symbol', 'date'])\n",
    "    ret_cols = ['lret', 'lbmret'] \n",
    "    crsp_t2[ret_cols] = crsp_t2[ret_cols].fillna(0.0)\n",
    "    \n",
    "    # Now we want the return up to each point in time\n",
    "    crsp_t2['lcumret'] = crsp_t2.groupby('symbol')['lret'].cumsum()\n",
    "    crsp_t2['lbmcumret'] = crsp_t2.groupby('symbol')['lbmret'].cumsum()\n",
    "\n",
    "    # At each point in time, the return of the portfolio will be the \n",
    "    # cumulative return of each component weighted by the initial weight.\n",
    "    # Note that here we need the simple return average, not log return.\n",
    "    crsp_t2['cumret'] = np.exp(crsp_t2['lcumret']) - 1\n",
    "    crsp_t2['bmcumret'] = np.exp(crsp_t2['lbmcumret']) - 1\n",
    "\n",
    "    # Add weights, equal weighted is easy.\n",
    "    portfolio['ew'] = 1 / len(portfolio)\n",
    "    \n",
    "    crsp_t2 = pd.merge(crsp_t2, portfolio, on='symbol')\n",
    "\n",
    "    \n",
    "    # Now compute the equally weighted cumulative return\n",
    "    crsp_t2['wcumret'] = crsp_t2['ew'] * crsp_t2['cumret']\n",
    "    crsp_t2['wbmcumret'] = crsp_t2['ew'] * crsp_t2['bmcumret']\n",
    "\n",
    "    portfolio_ret = crsp_t2.groupby(['date'])[['wcumret', 'wbmcumret']].sum()\n",
    "    \n",
    "    # Count the days\n",
    "    portfolio_ret = portfolio_ret.reset_index()\n",
    "    portfolio_ret['days'] = portfolio_ret.index.values + 1\n",
    "    \n",
    "    portfolio_ret['exret'] = portfolio_ret['wcumret'] - portfolio_ret['wbmcumret']\n",
    "    \n",
    "    return portfolio_ret"
   ]
  },
  {
   "cell_type": "code",
   "execution_count": 29,
   "metadata": {},
   "outputs": [],
   "source": [
    "# calculating holding period return for top and bottom portfolios\n",
    "\n",
    "bottom_portfolio_ret = []\n",
    "top_portfolio_ret = []\n",
    "\n",
    "for date in dates:\n",
    "    bottom_portfolio_ret.append(compute_holding_returns(date, portfolios[date][0], combined_data))\n",
    "    top_portfolio_ret.append(compute_holding_returns(date, portfolios[date][1], combined_data))\n",
    "\n",
    "bottom_portfolio_ret = pd.concat(bottom_portfolio_ret)\n",
    "top_portfolio_ret = pd.concat(top_portfolio_ret)"
   ]
  },
  {
   "cell_type": "code",
   "execution_count": 30,
   "metadata": {},
   "outputs": [
    {
     "data": {
      "text/html": [
       "<div>\n",
       "<style scoped>\n",
       "    .dataframe tbody tr th:only-of-type {\n",
       "        vertical-align: middle;\n",
       "    }\n",
       "\n",
       "    .dataframe tbody tr th {\n",
       "        vertical-align: top;\n",
       "    }\n",
       "\n",
       "    .dataframe thead th {\n",
       "        text-align: right;\n",
       "    }\n",
       "</style>\n",
       "<table border=\"1\" class=\"dataframe\">\n",
       "  <thead>\n",
       "    <tr style=\"text-align: right;\">\n",
       "      <th></th>\n",
       "      <th>date</th>\n",
       "      <th>wcumret</th>\n",
       "      <th>wbmcumret</th>\n",
       "      <th>days</th>\n",
       "      <th>exret</th>\n",
       "    </tr>\n",
       "  </thead>\n",
       "  <tbody>\n",
       "    <tr>\n",
       "      <th>0</th>\n",
       "      <td>2018-01-16</td>\n",
       "      <td>-0.000990</td>\n",
       "      <td>-0.003524</td>\n",
       "      <td>1</td>\n",
       "      <td>0.002534</td>\n",
       "    </tr>\n",
       "    <tr>\n",
       "      <th>1</th>\n",
       "      <td>2018-01-17</td>\n",
       "      <td>0.002465</td>\n",
       "      <td>0.005857</td>\n",
       "      <td>2</td>\n",
       "      <td>-0.003392</td>\n",
       "    </tr>\n",
       "    <tr>\n",
       "      <th>2</th>\n",
       "      <td>2018-01-18</td>\n",
       "      <td>-0.004210</td>\n",
       "      <td>0.004232</td>\n",
       "      <td>3</td>\n",
       "      <td>-0.008441</td>\n",
       "    </tr>\n",
       "    <tr>\n",
       "      <th>3</th>\n",
       "      <td>2018-01-19</td>\n",
       "      <td>0.006001</td>\n",
       "      <td>0.008635</td>\n",
       "      <td>4</td>\n",
       "      <td>-0.002634</td>\n",
       "    </tr>\n",
       "    <tr>\n",
       "      <th>4</th>\n",
       "      <td>2018-01-22</td>\n",
       "      <td>0.016198</td>\n",
       "      <td>0.016772</td>\n",
       "      <td>5</td>\n",
       "      <td>-0.000574</td>\n",
       "    </tr>\n",
       "    <tr>\n",
       "      <th>5</th>\n",
       "      <td>2018-01-23</td>\n",
       "      <td>0.035195</td>\n",
       "      <td>0.018983</td>\n",
       "      <td>6</td>\n",
       "      <td>0.016213</td>\n",
       "    </tr>\n",
       "    <tr>\n",
       "      <th>6</th>\n",
       "      <td>2018-01-24</td>\n",
       "      <td>0.030755</td>\n",
       "      <td>0.018412</td>\n",
       "      <td>7</td>\n",
       "      <td>0.012343</td>\n",
       "    </tr>\n",
       "    <tr>\n",
       "      <th>7</th>\n",
       "      <td>2018-01-25</td>\n",
       "      <td>0.032540</td>\n",
       "      <td>0.019026</td>\n",
       "      <td>8</td>\n",
       "      <td>0.013514</td>\n",
       "    </tr>\n",
       "    <tr>\n",
       "      <th>8</th>\n",
       "      <td>2018-01-26</td>\n",
       "      <td>0.028796</td>\n",
       "      <td>0.031092</td>\n",
       "      <td>9</td>\n",
       "      <td>-0.002296</td>\n",
       "    </tr>\n",
       "    <tr>\n",
       "      <th>9</th>\n",
       "      <td>2018-01-29</td>\n",
       "      <td>0.019973</td>\n",
       "      <td>0.024151</td>\n",
       "      <td>10</td>\n",
       "      <td>-0.004178</td>\n",
       "    </tr>\n",
       "    <tr>\n",
       "      <th>0</th>\n",
       "      <td>2018-01-29</td>\n",
       "      <td>-0.022009</td>\n",
       "      <td>-0.006732</td>\n",
       "      <td>1</td>\n",
       "      <td>-0.015277</td>\n",
       "    </tr>\n",
       "    <tr>\n",
       "      <th>1</th>\n",
       "      <td>2018-01-30</td>\n",
       "      <td>-0.014166</td>\n",
       "      <td>-0.017557</td>\n",
       "      <td>2</td>\n",
       "      <td>0.003392</td>\n",
       "    </tr>\n",
       "    <tr>\n",
       "      <th>2</th>\n",
       "      <td>2018-01-31</td>\n",
       "      <td>-0.005532</td>\n",
       "      <td>-0.017077</td>\n",
       "      <td>3</td>\n",
       "      <td>0.011545</td>\n",
       "    </tr>\n",
       "    <tr>\n",
       "      <th>3</th>\n",
       "      <td>2018-02-01</td>\n",
       "      <td>-0.003179</td>\n",
       "      <td>-0.017714</td>\n",
       "      <td>4</td>\n",
       "      <td>0.014535</td>\n",
       "    </tr>\n",
       "    <tr>\n",
       "      <th>4</th>\n",
       "      <td>2018-02-02</td>\n",
       "      <td>-0.020607</td>\n",
       "      <td>-0.038547</td>\n",
       "      <td>5</td>\n",
       "      <td>0.017940</td>\n",
       "    </tr>\n",
       "  </tbody>\n",
       "</table>\n",
       "</div>"
      ],
      "text/plain": [
       "        date   wcumret  wbmcumret  days     exret\n",
       "0 2018-01-16 -0.000990  -0.003524     1  0.002534\n",
       "1 2018-01-17  0.002465   0.005857     2 -0.003392\n",
       "2 2018-01-18 -0.004210   0.004232     3 -0.008441\n",
       "3 2018-01-19  0.006001   0.008635     4 -0.002634\n",
       "4 2018-01-22  0.016198   0.016772     5 -0.000574\n",
       "5 2018-01-23  0.035195   0.018983     6  0.016213\n",
       "6 2018-01-24  0.030755   0.018412     7  0.012343\n",
       "7 2018-01-25  0.032540   0.019026     8  0.013514\n",
       "8 2018-01-26  0.028796   0.031092     9 -0.002296\n",
       "9 2018-01-29  0.019973   0.024151    10 -0.004178\n",
       "0 2018-01-29 -0.022009  -0.006732     1 -0.015277\n",
       "1 2018-01-30 -0.014166  -0.017557     2  0.003392\n",
       "2 2018-01-31 -0.005532  -0.017077     3  0.011545\n",
       "3 2018-02-01 -0.003179  -0.017714     4  0.014535\n",
       "4 2018-02-02 -0.020607  -0.038547     5  0.017940"
      ]
     },
     "execution_count": 30,
     "metadata": {},
     "output_type": "execute_result"
    }
   ],
   "source": [
    "bottom_portfolio_ret.head(15)"
   ]
  },
  {
   "cell_type": "code",
   "execution_count": 31,
   "metadata": {},
   "outputs": [],
   "source": [
    "%matplotlib inline\n",
    "import matplotlib.pyplot as plt\n",
    "from scipy import stats"
   ]
  },
  {
   "cell_type": "code",
   "execution_count": 32,
   "metadata": {},
   "outputs": [
    {
     "data": {
      "text/plain": [
       "<matplotlib.lines.Line2D at 0x7ff0249119d0>"
      ]
     },
     "execution_count": 32,
     "metadata": {},
     "output_type": "execute_result"
    },
    {
     "data": {
      "image/png": "[encoded data removed]",
      "text/plain": [
       "<Figure size 432x288 with 1 Axes>"
      ]
     },
     "metadata": {
      "needs_background": "light"
     },
     "output_type": "display_data"
    }
   ],
   "source": [
    "ax = bottom_portfolio_ret.groupby('days')['exret'].mean().plot(label='Past losers')\n",
    "top_portfolio_ret.groupby('days')['exret'].mean().plot(ax=ax, label='Past winners')\n",
    "ax.legend()\n",
    "ax.axhline(y=0,  color='black', alpha=0.5, linestyle=':')\n",
    "ax.axvline(x=5, color='black', alpha=0.5, linestyle='-')\n",
    "ax.axvline(x=10, color='black', alpha=0.5, linestyle='-')"
   ]
  },
  {
   "cell_type": "code",
   "execution_count": 33,
   "metadata": {},
   "outputs": [
    {
     "name": "stdout",
     "output_type": "stream",
     "text": [
      "Mean Excess Return for Top Performing Funds 0.015436408250761193\n",
      "Mean Excess Return for Bottom Performing Funds -0.008777697176959816\n",
      "Mean Difference Bottom Minus Top in Excess Return -0.02421410542772101\n",
      "SD of the Excess Return for Top Performing Funds 0.04001572748158246\n",
      "SD of the Excess Return for Bottom Performing Funds 0.05900423126915534\n",
      "Correlation between Top and Bottom Performing Funds -0.12611810314966498\n",
      "P-values 0.004292657712476778\n",
      " we are rejecting null hypothesis\n"
     ]
    }
   ],
   "source": [
    "tset, pval = stats.ttest_ind(top_portfolio_ret[top_portfolio_ret['days']==5]['exret'],\n",
    "                             bottom_portfolio_ret[top_portfolio_ret['days']==5]['exret'])\n",
    "\n",
    "print('Mean Excess Return for Top Performing Funds ' + str(top_portfolio_ret[top_portfolio_ret['days']==5]['exret'].mean()))\n",
    "print('Mean Excess Return for Bottom Performing Funds ' + str(bottom_portfolio_ret[top_portfolio_ret['days']==5]['exret'].mean()))\n",
    "print('Mean Difference Bottom Minus Top in Excess Return ' + \n",
    "      str(bottom_portfolio_ret[top_portfolio_ret['days']==5]['exret'].mean() -                                                        \n",
    "          top_portfolio_ret[top_portfolio_ret['days']==5]['exret'].mean()))\n",
    "\n",
    "print('SD of the Excess Return for Top Performing Funds ' + str(top_portfolio_ret[top_portfolio_ret['days']==5]['exret'].std()))\n",
    "print('SD of the Excess Return for Bottom Performing Funds ' + str(bottom_portfolio_ret[top_portfolio_ret['days']==5]['exret'].std()))\n",
    "print('Correlation between Top and Bottom Performing Funds ' + \n",
    "      str(bottom_portfolio_ret[top_portfolio_ret['days']==5]['exret'].corr(top_portfolio_ret[top_portfolio_ret['days']==5]['exret'])))\n",
    "\n",
    "\n",
    "print('P-values ' + str(pval))\n",
    "if pval < 0.05:    # alpha value is 0.05 or 5%\n",
    "    print(\" we are rejecting null hypothesis\")\n",
    "else:\n",
    "    print(\"we are accepting null hypothesis\")"
   ]
  },
  {
   "cell_type": "code",
   "execution_count": 34,
   "metadata": {},
   "outputs": [
    {
     "data": {
      "text/plain": [
       "Timestamp('2020-11-02 00:00:00')"
      ]
     },
     "execution_count": 34,
     "metadata": {},
     "output_type": "execute_result"
    }
   ],
   "source": [
    "today=pd.to_datetime('20201102', format='%Y%m%d')\n",
    "today"
   ]
  },
  {
   "cell_type": "code",
   "execution_count": 35,
   "metadata": {},
   "outputs": [],
   "source": [
    "# Calculating the portfolio formed based on latest formation date\n",
    "working_port = compute_performance_portfolios(today, combined_data)"
   ]
  },
  {
   "cell_type": "code",
   "execution_count": 36,
   "metadata": {},
   "outputs": [
    {
     "data": {
      "text/plain": [
       "(  symbol    lexret\n",
       " 0    BEN -0.130450\n",
       " 1   CTXS -0.138067\n",
       " 2   DXCM -0.209778\n",
       " 3   INTC -0.146247\n",
       " 4   WLTW -0.137120,\n",
       "   symbol    lexret\n",
       " 0   ALGN  0.360278\n",
       " 1    BKR  0.229742\n",
       " 2    CMA  0.175450\n",
       " 3    TPR  0.241671\n",
       " 4     UA  0.174185)"
      ]
     },
     "execution_count": 36,
     "metadata": {},
     "output_type": "execute_result"
    }
   ],
   "source": [
    "working_port"
   ]
  },
  {
   "cell_type": "code",
   "execution_count": 37,
   "metadata": {},
   "outputs": [
    {
     "data": {
      "text/html": [
       "<div>\n",
       "<style scoped>\n",
       "    .dataframe tbody tr th:only-of-type {\n",
       "        vertical-align: middle;\n",
       "    }\n",
       "\n",
       "    .dataframe tbody tr th {\n",
       "        vertical-align: top;\n",
       "    }\n",
       "\n",
       "    .dataframe thead th {\n",
       "        text-align: right;\n",
       "    }\n",
       "</style>\n",
       "<table border=\"1\" class=\"dataframe\">\n",
       "  <thead>\n",
       "    <tr style=\"text-align: right;\">\n",
       "      <th></th>\n",
       "      <th>symbol</th>\n",
       "      <th>lexret</th>\n",
       "    </tr>\n",
       "  </thead>\n",
       "  <tbody>\n",
       "    <tr>\n",
       "      <th>0</th>\n",
       "      <td>BEN</td>\n",
       "      <td>-0.130450</td>\n",
       "    </tr>\n",
       "    <tr>\n",
       "      <th>1</th>\n",
       "      <td>CTXS</td>\n",
       "      <td>-0.138067</td>\n",
       "    </tr>\n",
       "    <tr>\n",
       "      <th>2</th>\n",
       "      <td>DXCM</td>\n",
       "      <td>-0.209778</td>\n",
       "    </tr>\n",
       "    <tr>\n",
       "      <th>3</th>\n",
       "      <td>INTC</td>\n",
       "      <td>-0.146247</td>\n",
       "    </tr>\n",
       "    <tr>\n",
       "      <th>4</th>\n",
       "      <td>WLTW</td>\n",
       "      <td>-0.137120</td>\n",
       "    </tr>\n",
       "  </tbody>\n",
       "</table>\n",
       "</div>"
      ],
      "text/plain": [
       "  symbol    lexret\n",
       "0    BEN -0.130450\n",
       "1   CTXS -0.138067\n",
       "2   DXCM -0.209778\n",
       "3   INTC -0.146247\n",
       "4   WLTW -0.137120"
      ]
     },
     "execution_count": 37,
     "metadata": {},
     "output_type": "execute_result"
    }
   ],
   "source": [
    "working_port[:][0]"
   ]
  },
  {
   "cell_type": "code",
   "execution_count": 38,
   "metadata": {},
   "outputs": [
    {
     "name": "stdout",
     "output_type": "stream",
     "text": [
      "0     Loser Stocks: BEN\n",
      "1    Loser Stocks: CTXS\n",
      "2    Loser Stocks: DXCM\n",
      "3    Loser Stocks: INTC\n",
      "4    Loser Stocks: WLTW\n",
      "Name: symbol, dtype: object\n"
     ]
    }
   ],
   "source": [
    "# Loser stocks for the latest portfolio formation period\n",
    "print(\"Loser Stocks: \" + working_port[0][:]['symbol'])\n",
    "# working_port[0][:]['symbol']"
   ]
  },
  {
   "cell_type": "code",
   "execution_count": 39,
   "metadata": {},
   "outputs": [
    {
     "name": "stdout",
     "output_type": "stream",
     "text": [
      "0    Winner Stocks: ALGN\n",
      "1     Winner Stocks: BKR\n",
      "2     Winner Stocks: CMA\n",
      "3     Winner Stocks: TPR\n",
      "4      Winner Stocks: UA\n",
      "Name: symbol, dtype: object\n"
     ]
    }
   ],
   "source": [
    "# Winner stocks for the latest portfolio formation period\n",
    "print(\"Winner Stocks: \" + working_port[1][:]['symbol']) \n",
    "# working_port[1][:]['symbol']"
   ]
  }
 ],
 "metadata": {
  "kernelspec": {
   "display_name": "Python 3",
   "language": "python",
   "name": "python3"
  },
  "language_info": {
   "codemirror_mode": {
    "name": "ipython",
    "version": 3
   },
   "file_extension": ".py",
   "mimetype": "text/x-python",
   "name": "python",
   "nbconvert_exporter": "python",
   "pygments_lexer": "ipython3",
   "version": "3.8.3"
  }
 },
 "nbformat": 4,
 "nbformat_minor": 4
}
